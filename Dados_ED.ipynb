{
 "cells": [
  {
   "cell_type": "code",
   "execution_count": null,
   "metadata": {},
   "outputs": [],
   "source": [
    "# Importação das bibliotecas para manipulação de dados\n",
    "import pandas as pd"
   ]
  },
  {
   "cell_type": "code",
   "execution_count": null,
   "metadata": {},
   "outputs": [],
   "source": [
    "# Atribuindo a variável 'principal' o arquivo .csv para tratabilidade\n",
    "principal = pd.read_csv('C:/Users/tcast/Downloads/Estrutura de Dados/Trabalho ED/trabalho_ed/cleaned_data.csv',\n",
    "                       sep=',', encoding='utf-8')\n",
    "principal"
   ]
  },
  {
   "cell_type": "code",
   "execution_count": null,
   "metadata": {},
   "outputs": [],
   "source": [
    "# Renomeando as colunas para uma melhor visualização\n",
    "principal.columns = ['Sem nome', 'Nome', 'Companhia', 'Localização', 'Descrição',\n",
    "                  'Salário pré-processado']\n",
    "principal.head()"
   ]
  },
  {
   "cell_type": "code",
   "execution_count": null,
   "metadata": {},
   "outputs": [],
   "source": [
    "# Simplificando o nome da coluna\n",
    "principal.rename({'Salário pré-processado':'Salário'}, axis=1, inplace=True)\n",
    "principal.head()"
   ]
  },
  {
   "cell_type": "code",
   "execution_count": null,
   "metadata": {},
   "outputs": [],
   "source": [
    "# Verificado que a coluna em questão está para contagem de linhas, a mesma foi retirada do dataframe\n",
    "principal.drop(['Sem nome'], axis=1, inplace=True)\n",
    "principal.head()"
   ]
  },
  {
   "cell_type": "code",
   "execution_count": null,
   "metadata": {},
   "outputs": [],
   "source": [
    "# Chamando a coluna Salário para visualização dos dados em questão\n",
    "principal['Salário']"
   ]
  },
  {
   "cell_type": "code",
   "execution_count": null,
   "metadata": {},
   "outputs": [],
   "source": [
    "# Fazendo a contagem de quantos NaN conta dentro da coluna 'Salário'\n",
    "principal['Salário'].isna().sum()"
   ]
  }
 ],
 "metadata": {
  "language_info": {
   "name": "python"
  }
 },
 "nbformat": 4,
 "nbformat_minor": 2
}
