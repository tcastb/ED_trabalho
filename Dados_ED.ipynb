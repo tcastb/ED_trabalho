{
 "cells": [
  {
   "cell_type": "code",
   "execution_count": null,
   "metadata": {},
   "outputs": [],
   "source": [
    "# Utilizando sistema de gerenciador de pacotes.\n",
    "# Todos os pacotes utilizados na aplicação, é listado no arquivo 'requirements.txt'.\n",
    "# É obrigatório a execução desta bloco de código antes de executar os demais blocos de códigos.\n",
    "%pip install -r requirements.txt"
   ]
  },
  {
   "cell_type": "code",
   "execution_count": 22,
   "metadata": {},
   "outputs": [],
   "source": [
    "# Importando as bibliotecas necessárias.\n",
    "import pandas as pd\n",
    "import matplotlib as plot\n",
    "import seaborn as sbn\n",
    "import numpy as np"
   ]
  },
  {
   "cell_type": "code",
   "execution_count": 37,
   "metadata": {},
   "outputs": [
    {
     "data": {
      "text/html": [
       "<div>\n",
       "<style scoped>\n",
       "    .dataframe tbody tr th:only-of-type {\n",
       "        vertical-align: middle;\n",
       "    }\n",
       "\n",
       "    .dataframe tbody tr th {\n",
       "        vertical-align: top;\n",
       "    }\n",
       "\n",
       "    .dataframe thead th {\n",
       "        text-align: right;\n",
       "    }\n",
       "</style>\n",
       "<table border=\"1\" class=\"dataframe\">\n",
       "  <thead>\n",
       "    <tr style=\"text-align: right;\">\n",
       "      <th></th>\n",
       "      <th>Unnamed: 0</th>\n",
       "      <th>Name</th>\n",
       "      <th>Company</th>\n",
       "      <th>Location</th>\n",
       "      <th>Description</th>\n",
       "      <th>preprocessed_salary</th>\n",
       "    </tr>\n",
       "  </thead>\n",
       "  <tbody>\n",
       "    <tr>\n",
       "      <th>0</th>\n",
       "      <td>0</td>\n",
       "      <td>data scientist</td>\n",
       "      <td>tantus technologies, inc.</td>\n",
       "      <td>woodlawn, md</td>\n",
       "      <td>tantus technologies, inc, tantus, - recognized...</td>\n",
       "      <td>137500.0</td>\n",
       "    </tr>\n",
       "    <tr>\n",
       "      <th>1</th>\n",
       "      <td>1</td>\n",
       "      <td>data scientist</td>\n",
       "      <td>rogue credit union</td>\n",
       "      <td>medford, or</td>\n",
       "      <td>department: business intelligence and enterpri...</td>\n",
       "      <td>NaN</td>\n",
       "    </tr>\n",
       "    <tr>\n",
       "      <th>2</th>\n",
       "      <td>2</td>\n",
       "      <td>data scientist</td>\n",
       "      <td>knowbe4</td>\n",
       "      <td>clearwater, fl</td>\n",
       "      <td>we are ranked 1 best place to work in technolo...</td>\n",
       "      <td>85000.0</td>\n",
       "    </tr>\n",
       "    <tr>\n",
       "      <th>3</th>\n",
       "      <td>3</td>\n",
       "      <td>data scientist</td>\n",
       "      <td>affinity solutions</td>\n",
       "      <td>new york, ny</td>\n",
       "      <td>data scientistaffinity solutions, marketing cl...</td>\n",
       "      <td>114500.0</td>\n",
       "    </tr>\n",
       "    <tr>\n",
       "      <th>4</th>\n",
       "      <td>4</td>\n",
       "      <td>data scientist</td>\n",
       "      <td>pnnl</td>\n",
       "      <td>richland, wa</td>\n",
       "      <td>. *organization and job id. *job description. ...</td>\n",
       "      <td>76500.0</td>\n",
       "    </tr>\n",
       "  </tbody>\n",
       "</table>\n",
       "</div>"
      ],
      "text/plain": [
       "   Unnamed: 0            Name                    Company        Location  \\\n",
       "0           0  data scientist  tantus technologies, inc.    woodlawn, md   \n",
       "1           1  data scientist         rogue credit union     medford, or   \n",
       "2           2  data scientist                    knowbe4  clearwater, fl   \n",
       "3           3  data scientist         affinity solutions    new york, ny   \n",
       "4           4  data scientist                       pnnl    richland, wa   \n",
       "\n",
       "                                         Description  preprocessed_salary  \n",
       "0  tantus technologies, inc, tantus, - recognized...             137500.0  \n",
       "1  department: business intelligence and enterpri...                  NaN  \n",
       "2  we are ranked 1 best place to work in technolo...              85000.0  \n",
       "3  data scientistaffinity solutions, marketing cl...             114500.0  \n",
       "4  . *organization and job id. *job description. ...              76500.0  "
      ]
     },
     "execution_count": 37,
     "metadata": {},
     "output_type": "execute_result"
    }
   ],
   "source": [
    "# Atribuindo a variável 'principal' o arquivo .csv para tratabilidade\n",
    "df = pd.read_csv(r'00_dataset\\cleaned_data.csv', sep=',', encoding='utf-8')\n",
    "df.head()"
   ]
  },
  {
   "cell_type": "code",
   "execution_count": 38,
   "metadata": {},
   "outputs": [
    {
     "data": {
      "text/html": [
       "<div>\n",
       "<style scoped>\n",
       "    .dataframe tbody tr th:only-of-type {\n",
       "        vertical-align: middle;\n",
       "    }\n",
       "\n",
       "    .dataframe tbody tr th {\n",
       "        vertical-align: top;\n",
       "    }\n",
       "\n",
       "    .dataframe thead th {\n",
       "        text-align: right;\n",
       "    }\n",
       "</style>\n",
       "<table border=\"1\" class=\"dataframe\">\n",
       "  <thead>\n",
       "    <tr style=\"text-align: right;\">\n",
       "      <th></th>\n",
       "      <th>ID</th>\n",
       "      <th>Name</th>\n",
       "      <th>Company</th>\n",
       "      <th>Location</th>\n",
       "      <th>Description</th>\n",
       "      <th>Salary</th>\n",
       "    </tr>\n",
       "  </thead>\n",
       "  <tbody>\n",
       "    <tr>\n",
       "      <th>0</th>\n",
       "      <td>0</td>\n",
       "      <td>data scientist</td>\n",
       "      <td>tantus technologies, inc.</td>\n",
       "      <td>woodlawn, md</td>\n",
       "      <td>tantus technologies, inc, tantus, - recognized...</td>\n",
       "      <td>137500.0</td>\n",
       "    </tr>\n",
       "    <tr>\n",
       "      <th>1</th>\n",
       "      <td>1</td>\n",
       "      <td>data scientist</td>\n",
       "      <td>rogue credit union</td>\n",
       "      <td>medford, or</td>\n",
       "      <td>department: business intelligence and enterpri...</td>\n",
       "      <td>NaN</td>\n",
       "    </tr>\n",
       "    <tr>\n",
       "      <th>2</th>\n",
       "      <td>2</td>\n",
       "      <td>data scientist</td>\n",
       "      <td>knowbe4</td>\n",
       "      <td>clearwater, fl</td>\n",
       "      <td>we are ranked 1 best place to work in technolo...</td>\n",
       "      <td>85000.0</td>\n",
       "    </tr>\n",
       "    <tr>\n",
       "      <th>3</th>\n",
       "      <td>3</td>\n",
       "      <td>data scientist</td>\n",
       "      <td>affinity solutions</td>\n",
       "      <td>new york, ny</td>\n",
       "      <td>data scientistaffinity solutions, marketing cl...</td>\n",
       "      <td>114500.0</td>\n",
       "    </tr>\n",
       "    <tr>\n",
       "      <th>4</th>\n",
       "      <td>4</td>\n",
       "      <td>data scientist</td>\n",
       "      <td>pnnl</td>\n",
       "      <td>richland, wa</td>\n",
       "      <td>. *organization and job id. *job description. ...</td>\n",
       "      <td>76500.0</td>\n",
       "    </tr>\n",
       "  </tbody>\n",
       "</table>\n",
       "</div>"
      ],
      "text/plain": [
       "   ID            Name                    Company        Location  \\\n",
       "0   0  data scientist  tantus technologies, inc.    woodlawn, md   \n",
       "1   1  data scientist         rogue credit union     medford, or   \n",
       "2   2  data scientist                    knowbe4  clearwater, fl   \n",
       "3   3  data scientist         affinity solutions    new york, ny   \n",
       "4   4  data scientist                       pnnl    richland, wa   \n",
       "\n",
       "                                         Description    Salary  \n",
       "0  tantus technologies, inc, tantus, - recognized...  137500.0  \n",
       "1  department: business intelligence and enterpri...       NaN  \n",
       "2  we are ranked 1 best place to work in technolo...   85000.0  \n",
       "3  data scientistaffinity solutions, marketing cl...  114500.0  \n",
       "4  . *organization and job id. *job description. ...   76500.0  "
      ]
     },
     "execution_count": 38,
     "metadata": {},
     "output_type": "execute_result"
    }
   ],
   "source": [
    "# Renomeando as colunas para uma melhor visualização\n",
    "df.columns = ['ID', 'Name', 'Company', 'Location', 'Description', 'Salary']\n",
    "df.head()"
   ]
  },
  {
   "cell_type": "code",
   "execution_count": 40,
   "metadata": {},
   "outputs": [
    {
     "data": {
      "text/html": [
       "<div>\n",
       "<style scoped>\n",
       "    .dataframe tbody tr th:only-of-type {\n",
       "        vertical-align: middle;\n",
       "    }\n",
       "\n",
       "    .dataframe tbody tr th {\n",
       "        vertical-align: top;\n",
       "    }\n",
       "\n",
       "    .dataframe thead th {\n",
       "        text-align: right;\n",
       "    }\n",
       "</style>\n",
       "<table border=\"1\" class=\"dataframe\">\n",
       "  <thead>\n",
       "    <tr style=\"text-align: right;\">\n",
       "      <th></th>\n",
       "      <th>Name</th>\n",
       "      <th>Company</th>\n",
       "      <th>Location</th>\n",
       "      <th>Description</th>\n",
       "      <th>Salary</th>\n",
       "    </tr>\n",
       "  </thead>\n",
       "  <tbody>\n",
       "    <tr>\n",
       "      <th>0</th>\n",
       "      <td>data scientist</td>\n",
       "      <td>tantus technologies, inc.</td>\n",
       "      <td>woodlawn, md</td>\n",
       "      <td>tantus technologies, inc, tantus, - recognized...</td>\n",
       "      <td>137500.0</td>\n",
       "    </tr>\n",
       "    <tr>\n",
       "      <th>1</th>\n",
       "      <td>data scientist</td>\n",
       "      <td>rogue credit union</td>\n",
       "      <td>medford, or</td>\n",
       "      <td>department: business intelligence and enterpri...</td>\n",
       "      <td>NaN</td>\n",
       "    </tr>\n",
       "    <tr>\n",
       "      <th>2</th>\n",
       "      <td>data scientist</td>\n",
       "      <td>knowbe4</td>\n",
       "      <td>clearwater, fl</td>\n",
       "      <td>we are ranked 1 best place to work in technolo...</td>\n",
       "      <td>85000.0</td>\n",
       "    </tr>\n",
       "    <tr>\n",
       "      <th>3</th>\n",
       "      <td>data scientist</td>\n",
       "      <td>affinity solutions</td>\n",
       "      <td>new york, ny</td>\n",
       "      <td>data scientistaffinity solutions, marketing cl...</td>\n",
       "      <td>114500.0</td>\n",
       "    </tr>\n",
       "    <tr>\n",
       "      <th>4</th>\n",
       "      <td>data scientist</td>\n",
       "      <td>pnnl</td>\n",
       "      <td>richland, wa</td>\n",
       "      <td>. *organization and job id. *job description. ...</td>\n",
       "      <td>76500.0</td>\n",
       "    </tr>\n",
       "  </tbody>\n",
       "</table>\n",
       "</div>"
      ],
      "text/plain": [
       "             Name                    Company        Location  \\\n",
       "0  data scientist  tantus technologies, inc.    woodlawn, md   \n",
       "1  data scientist         rogue credit union     medford, or   \n",
       "2  data scientist                    knowbe4  clearwater, fl   \n",
       "3  data scientist         affinity solutions    new york, ny   \n",
       "4  data scientist                       pnnl    richland, wa   \n",
       "\n",
       "                                         Description    Salary  \n",
       "0  tantus technologies, inc, tantus, - recognized...  137500.0  \n",
       "1  department: business intelligence and enterpri...       NaN  \n",
       "2  we are ranked 1 best place to work in technolo...   85000.0  \n",
       "3  data scientistaffinity solutions, marketing cl...  114500.0  \n",
       "4  . *organization and job id. *job description. ...   76500.0  "
      ]
     },
     "execution_count": 40,
     "metadata": {},
     "output_type": "execute_result"
    }
   ],
   "source": [
    "# Verificado que a coluna em questão está para contagem de linhas, a mesma foi retirada do dataframe\n",
    "df.drop(['ID'], axis=1, inplace=True)\n",
    "df.head()"
   ]
  },
  {
   "cell_type": "code",
   "execution_count": 48,
   "metadata": {},
   "outputs": [
    {
     "data": {
      "text/plain": [
       "2277"
      ]
     },
     "execution_count": 48,
     "metadata": {},
     "output_type": "execute_result"
    }
   ],
   "source": [
    "# Chamando a coluna Salary para visualização dos dados em questão\n",
    "df['Salary'].count()"
   ]
  },
  {
   "cell_type": "code",
   "execution_count": 43,
   "metadata": {},
   "outputs": [
    {
     "data": {
      "text/plain": [
       "12542"
      ]
     },
     "execution_count": 43,
     "metadata": {},
     "output_type": "execute_result"
    }
   ],
   "source": [
    "# Fazendo a contagem de quantos NaN conta dentro da coluna 'Salary'\n",
    "df['Salary'].isna().sum()"
   ]
  },
  {
   "cell_type": "code",
   "execution_count": 74,
   "metadata": {},
   "outputs": [
    {
     "name": "stdout",
     "output_type": "stream",
     "text": [
      "Recuperado da lista o objeto de id: 14818\n",
      "Name: wellsaid labs deep learning engineer - ai2 incubator,\n",
      "Company: thealleninstituteforai,\n",
      "Location: seattle, wa,\n",
      "Description: are you passionate about deep learning. do you want to develop life-like speech synthesis algorithms for next-generation experiences. are you energized by hard problems. if three things are exciting to you, read on. we are searching for engineers with a passion for building creative tools for sound generation based entirely in deep generative model research. come join us. you will study and develop new deep learning models that improve on state-of-the-art text-to-speech research. youll also develop an approach to control speech synthesis – such as varying speed and speaking style. finally, youll help write the playbook on how to deploy and scale entirely new technology. who are we. our team is a spin-out from paul allens ai institute, ai2, where we developed a breakthrough deep learning model that is able to read the text in a completely human-like voice. furthermore, our approach works on commodity hardware – such as a phone. our text-to-speech editor is used by hundreds of creatives. today hundreds of creatives are using our voice editor to create voice-overs for training videos, podcasts, audiobooks, and radio. in the future, we foresee our product further satisfying the voice-over needs in the e-learning, movie production, video games, assistive devices, and call center space. we recently secured a couple of million dollars in funding from top-tier vcs and are now looking to hire our founding 6 - 8 person team. last but not least, we were featured in techcrunch, https, techcrunch. com, 2019, 03, 07, wellsaid-aims-to-make-natural-sounding-synthetic-speech-a-credible-alternative-to-real-humans, geekwire, https, www. geekwire. com, 2019, ai2s-incubator-gives-birth-wellsaid-startup-synthesizes-amazingly-realistic-voices, and cnn, https, www. cnn. com, 2019, 03, 07, tech, ai-voices-sound-human, index. html. your perks and benefits. competitive salaries and stock options. comprehensive health care plan. vacation policy, paid time off. healthy lunch and snacks. standing desks. flexible-schedules. remote work opportunities. continuing education. projects youll do. youll build tools for dataset creation and quality assurance, enabling scalable synthetic voice creation. youll build a cloud backend allowing us to reasonably scale deep learning inference to hundreds of concurrent users. youll automate crowdsourcing studies for evaluating model quality. youll implement and study novel deep learning algorithms for language understanding and audio generation. experience you have. working in python. familiarity with pytorch and, or tensorflow. using google cloud or amazon web services, bonus, understanding the process of designing, launching and running a new business,\n",
      "Salary: nan\n",
      "Mostrando o(s) 5 primeiro(s) registro(s).\n",
      "ID: 0, Name: data scientist, Company: tantus technologies, inc., Location: woodlawn, md, Description: tantus technologies, inc, tantus, - recognized by the washington post as a top workplace - is seeking a data scientist with focus on artifical intellenge, machine learning, nlp and federal government healthcare space to help tantus build solutions for our customers that enable them to extract value from their data. drive the development of ai, ml, nlp solutions for tantus emerging technologies teamassist the team in identifying, building and optimizing machine learning algorithms and models, annotations, entity recognition and custom classifier models, assist with defining and driving ai strategiesbachelor’s or master’s degree in data science or artificial intelligence and machine learning, strongly preferred, ; bachelor’s or master’s degree in applied mathematics or computer scienceoverall experience for 3-5 years in the ai, ml, nlp domainhands on experience developing supervised modelshands on experience in at least one of the programming languages – python, r, java or chands on experience in working with databasesexposure to cloud technologies and general knowledge of at least one cloud platform provider, aws, azure or google, good communication skillsexperience in mlopsexperience in working with ml tools such as aws comprehend, sagemaker, google muppetsuite, Salary: 137500.0\n",
      "ID: 1, Name: data scientist, Company: rogue credit union, Location: medford, or, Description: department: business intelligence and enterprise risk management. reports to:vice president of enterprise insights. grade:15classification: exempt. supervises direct: 0supervises indirect:0. role. this position is responsible for aiding operational areas of the organization leveraging both internal and external data assets to achieve business insights, gain deeper understanding of member needs, and enhance tactical and strategic decision making. essential functionsand responsibilities. 35% uncover and operationalize underlying structure and relationships within the data utilizing supervised and unsupervised machine learning techniques. develop models, processes, and structures necessary to support analytic needs of rogue credit union using machine learning in latest generation languages. work with vice president of enterprise insights and other staff to implement various analytical models, anything from churn, future value, or recommender systems. build small reporting layer on top of analytical models to ensure accountability and insight into models outcomes and impact. able to pilot and build poc’s to demonstrate and test business value of model. extracts operational, performance, statistical and other data from various information systems. 30% educate and demystify analytical models to business users. develop presentations and trainings for business users to increase understanding of statistics and implementation of models. maintain department as the competency center for analytics within rogue credit union. 30% works closely with vice president of enterprise insights to interpret report results. analyze, interpret, and summarize analytical model’s results. participates in the interpretation and context of complex business reports. runs what-if simulations based on varying factors and assumptions. identifies exceptions, positive and negative trends and measures that are out of tolerance with established limits and ranges. identifies potential concerns based on projections of current trends. performs statistical and financial analysis of data. 5% proactively performs other duties as needed or assigned. performance measurements. supports and practices rogues vision, mission, values, and loyalty culture. utilizes the service promises with both internal and external members. embraces rogues community involvement program in a positive and proactive manner. collaborates with other team members of formal and informal groups in the pursuit of rogue’s mission, vision, and guiding values. demonstrates empathy, self-reflection, and adjustment of own behaviors, displaying effective emotional intelligence. places team needs and priorities above personal needs. draws on the strengths of colleagues and gives credit to others contributions and achievements. adept with using large data sets to find opportunities for product and process optimization and models to test the effectiveness of different courses of action with a a proven ability to drive business results with databased insights. identifies and acts upon opportunities for continuous improvement. encourages prudent risk-taking, exploration of alternative approaches, and organizational learning. demonstrates personal commitment to change through actions and words. supports others in embracing change through times of stress and uncertainty. translates up to date information into continuous improvement activities that enhances performance. gathers and analyzes information or data on current and future trends of best practice. seeks information on issues impacting the progress of organizational and process issues. demonstrates excellent time management skills with the ability to work independently. prioritizes daily tasks and workflow and is able to multi-task. completes department and individual job-related goals on time and with quality results. assists in meeting credit union goals and objectives. knowledge and skills. experience:three years to five years of similar or related experience in designing, developing, and implementing data science solutions. understanding of the financial services industry desired. education: masters of science in information technology, computer science, statistics, or related degree preferred. equivalent to a college degree and a professional certificate or a graduate degree. bachelors of science degree in information technology, computer science, statistics, or related business degree with equivalent experience of 3 years. interpersonal skills:the ability to motivate or influence others is a material part of the job, requiring a significant level of diplomacy and trust. obtaining cooperation, internally and, or externally, is an important part of the job and a high level of interpersonal skills are critical to the success of this position. work frequently involves contacts requiring considerable discussion of problems, material presentations, and resolving issues impacting departments or divisions. other skills:prior experience developing business analytical solutions in large or midsize companies with the ability to manage multiple tasks simultaneously and react to problems quickly. must have programming experience with 4th generation and 3rd generation computer languages such as python and r, development experience with relational database structures, multi-dimensional database, and data warehouse design architecture, as well as experience with dashboard design and delivery. must possess strong sql abilities. experience with data mining models and ensemble model approaches or techniques. experience with both oracle and microsoft desired. must be highly productive, self-managed, resourceful, and dependable. should possess a strong eye for detail and accuracy, strong research, strategic, and critical thinking ability. must have excellent verbal and written communication skills and the ability to motivate or influence others using diplomacy and good judgment. physical requirements: some lifting required, up to 30 pounds, continuous sitting, occasional standing and occasional walking. finger dexterity while using computer. occasional talking and hearing in person and on the telephone. continuous clarity of vision at 20 inches or less and continuous clarity of vision at 20 feet or more. work environment:this job is an exempt position that requires flexibility in scheduling tasks and projects. the employee must independently monitor hours and judge the time needed to be spent on applicable duties. employee must be capable of adjusting to unpredictable schedules proactively. as a direct representative of the credit union, the employee must conduct and present themselves courteously and professionally. exposed to potentially hazardous conditions, i. e, robbery. travel to all credit union regions may be required. disclaimer. job descriptions are not intended, and should not be construed to be exhaustive lists of all responsibilities, skills, efforts, or working conditions associated with a job. they are intended to be accurate reflections of those principal job elements essential for making fair pay decisions about jobs. note: rogue credit union is a drug free workplace and requires a drug screening test within 48 hours of employment offer. rogue credit union is an equal opportunity employer and makes employment decisions without regard to race, color, national origin, religion, sex, age, disability, veteran status, or any other protected class. if you are an individual with a disability and require a reasonable accommodation to complete any part of the application process, or are limited in the ability or unable to access or use this online application process and need an alternative method, please call, 541, 622-7577 or email cnunez@roguecu. org. this job description is not a complete statement of all duties and responsibilities comprising the position., Salary: nan\n",
      "ID: 2, Name: data scientist, Company: knowbe4, Location: clearwater, fl, Description: we are ranked 1 best place to work in technology nationwide by fortune magazine and have placed 1 or 2 in the tampa bay top workplaces survey for the last four years. we also just had our 27th record-setting quarter in a row. responsibilities. work with key stakeholders throughout the organization to identify opportunities using financial data to develop business solutions. develop new and enhance existing data collection procedures to ensure that all data relevant for analyses is captured. cleanse, consolidate, and verify the integrity of data used in analyses. build and validate predictive models to increase customer retention, revenue generation, and other business outcomes. develop relevant statistical models to assist with profitability forecasting. create the analytics to leverage known, inferred and appended information about origins and recognizing patterns to assist in outlook forecasting. assist in the design and data modeling of data warehouse. visualize data, especially in reports and dashboards, to communicate analysis results to stakeholders. extend data collection to unstructured data within the company and external sources. mine and collect data, both structured and unstructured, to detect patterns, opportunities and insights that drive our organization. create and execute automation and data mining requests utilizing sql, access, excel, sas and other statistical programs. trouble shoot forecast and optimization anomalies with fpanda team through the use of statistical and mathematical optimization models. develop testing to explain and or reduce these anomalies. oversee and develop key metric forecasts as well as provide budget support based on trends in the business, industry. minimum qualifications. masters degree in statistics, computer science, mathematics or other quantitative discipline required. 2-3 years of experience in similar role, masters degree. 0-2 years of experience in similar role, phd. experience leveraging predictive modeling, big data analytics, exploratory data analysis and machine learning to drive significant business impact. experience with statistical computer languages, python, r etc, to manipulate and analyze large datasets preferred. experience with data visualization tools like d3. js, matplotlib, etc, preferred. exceptional understanding of machine learning algorithms such as random forest, svm, k-nn, naïve bayes, gradient boosting a plus. applied statistical skills including statistical testing, regression, etc. experience with data bases, query languages, and associated data architecture. experience with distributed computing tools, hive, spark, etc, is a plus. strong analytical skills and ability to meet project deadlines. note: an applicant assessment, background check and drug test may be part of your hiring procedure. no recruitment agencies, please., Salary: 85000.0\n",
      "ID: 3, Name: data scientist, Company: affinity solutions, Location: new york, ny, Description: data scientistaffinity solutions, marketing cloud seeks smart, curious, technically savvy candidates to join our cutting-edge data science team. we hire the best and brightest and give them the opportunity to work on industry-leading technologies. the data sciences team at afs, marketing cloud build models, machine learning algorithms that power all our ad-tech, mar-tech products at scale, develop methodology and tools to precisely and effectively measure market campaign effects, and research in-house and public data sources for consumer spend behavior insights. in this role, youll have the opportunity to come up with new ideas and solutions that will lead to improvement of our ability to target the right audience, derive insights and provide better measurement methodology for marketing campaigns. youll access our core data asset and machine learning infrastructure to power your ideas. duties and responsibilities· support all clients model building needs, including maintaining and improving current modeling, scoring methodology and processes, · provide innovative solutions to customized modeling, scoring, targeting with appropriate ml, statistical tools, · provide analytical, statistical support such as marketing test design, projection, campaign measurement, market insights to clients and stakeholders. · mine large consumer datasets in the cloud environment to support ad hoc business and statistical analysis, · develop and improve automation capabilities to enable customized delivery of the analytical products to clients, · communicate the methodologies and the results to the management, clients and none technical stakeholders. basic qualifications· advanced degree in statistics, mathematics, computer science, economics or other fields that requires advanced training in data analytics. · being able to apply basic statistical, ml concepts and reasoning to address and solve business problems such as targeting, test design, kpi projection and performance measurement. · entrepreneurial, highly self-motivated, collaborative, keen attention to detail, willingness and capable learn quickly, and ability to effectively prioritize and execute tasks in a high pressure environment. · being flexible to accept different task assignments and able to work on a tight time schedule. · excellent command of one or more programming languages; preferably python, sas or r· familiar with one of the database technologies such as postgresql, mysql, can write basic sql queries· great communication skills, verbal, written and presentation, preferred qualifications· experience or exposure to large consumer and, or demographic data sets. · familiarity with data manipulation and cleaning routines and techniques., Salary: 114500.0\n",
      "ID: 4, Name: data scientist, Company: pnnl, Location: richland, wa, Description: . *organization and job id. *job description. *minimum qualifications. *preferred qualifications. *equal employment opportunity. *_please be aware that the department of energy, doe, prohibits doe employees and contractors from participation in certain foreign government talent recruitment programs. if you are offered a position at pnnl and are currently a participant in a foreign government talent recruitment program you will be required to disclose this information before your first day of employment. _. , Salary: 76500.0\n"
     ]
    }
   ],
   "source": [
    "# Gerando a classe do dataframe que utilizaremos no projeto\n",
    "class Science:\n",
    "    def __init__(self, name, company, location, description, salary):\n",
    "        self.name = name\n",
    "        self.company = company\n",
    "        self.location = location\n",
    "        self.description = description\n",
    "        self.salary = salary\n",
    "    \n",
    "    @staticmethod\n",
    "    def showById(lst, idx):\n",
    "        if 0 <= idx < len(lst):\n",
    "            print(f'Recuperado da lista o objeto de id: {idx}')\n",
    "            item = lst[idx]\n",
    "            print(f\"Name: {item.name},\" +\n",
    "                  f\"\\nCompany: {item.company},\" +\n",
    "                  f\"\\nLocation: {item.location},\" +\n",
    "                  f\"\\nDescription: {item.description},\" +\n",
    "                  f\"\\nSalary: {item.salary}\")\n",
    "        else:\n",
    "            print(f\"O index informado ({idx}) não existe, por favor, selecione algo entre 0 e {len(lst)-1}.\")\n",
    "\n",
    "    @staticmethod\n",
    "    def showAll(lst, top = None):\n",
    "        if top is not None:\n",
    "            print(f'Mostrando o(s) {top} primeiro(s) registro(s).')\n",
    "            lst = lst[:top]\n",
    "            \n",
    "        for idx, item in enumerate(lst):\n",
    "            print(f\"ID: {idx}, Name: {item.name}, Company: {item.company}, Location: {item.location}, Description: {item.description}, Salary: {item.salary}\")\n",
    "\n",
    "list_science = [Science(row['Name'], row['Company'], row['Location'], row['Description'], row['Salary']) for index, row in df.iterrows()]\n",
    "\n",
    "Science.showById(list_science, 14818)\n",
    "Science.showAll(list_science, 5)"
   ]
  }
 ],
 "metadata": {
  "kernelspec": {
   "display_name": "Python 3",
   "language": "python",
   "name": "python3"
  },
  "language_info": {
   "codemirror_mode": {
    "name": "ipython",
    "version": 3
   },
   "file_extension": ".py",
   "mimetype": "text/x-python",
   "name": "python",
   "nbconvert_exporter": "python",
   "pygments_lexer": "ipython3",
   "version": "3.12.0"
  }
 },
 "nbformat": 4,
 "nbformat_minor": 2
}
